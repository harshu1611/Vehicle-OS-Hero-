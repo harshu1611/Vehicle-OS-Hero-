{
  "nbformat": 4,
  "nbformat_minor": 0,
  "metadata": {
    "colab": {
      "provenance": []
    },
    "kernelspec": {
      "name": "python3",
      "display_name": "Python 3"
    },
    "language_info": {
      "name": "python"
    }
  },
  "cells": [
    {
      "cell_type": "code",
      "execution_count": null,
      "metadata": {
        "id": "o_1qAT-pmCsx"
      },
      "outputs": [],
      "source": [
        "import pandas as pd\n",
        "from sklearn.ensemble import RandomForestClassifier\n",
        "from sklearn.model_selection import train_test_split\n",
        "from sklearn.preprocessing import LabelEncoder\n",
        "from sklearn.metrics import accuracy_score\n",
        "\n",
        "# Define the data\n",
        "data = {\n",
        "    'Average Speed (km/h)': [40, 45, 50, 55, 38, 42, 47, 51],\n",
        "    'Frequency of Speeding Events': [0, 2, 5, 8, 1, 3, 4, 6],\n",
        "    'Consistency of Speed Changes': ['High', 'Moderate', 'High', 'Low', 'High', 'Moderate', 'Moderate', 'High'],\n",
        "    'Vehicle Health': [85, 75, 90, 80, 70, 78, 72, 85],\n",
        "    'Battery Usage': ['10%', '15%', '5%', '8%', '12%', '11%', '13%', '7%'],\n",
        "    'Distance Traveled (km)': [20, 30, 35, 40, 18, 22, 25, 32],\n",
        "    'Usage Patterns': ['-', 'Low', 'High', 'Moderate', 'Low', 'Low', 'Moderate', 'High'],\n",
        "    'Trip Duration (minutes)': [30, 25, 20, 15, 35, 28, 23, 18],\n",
        "    'Distance Traveled (km).1': [20, 15, 35, 25, 10, 18, 20, 28],\n",
        "    'Frequency of Trips': [1, 2, 3, 4, 2, 1, 2, 3],\n",
        "    'Qualitative Score': ['Moderate', 'Moderate', 'High', 'High', 'Low', 'Moderate', 'Moderate', 'High']\n",
        "}\n",
        "\n",
        "# Create DataFrame\n",
        "df = pd.DataFrame(data)\n",
        "\n",
        "# Label encode categorical columns\n",
        "label_encoder = LabelEncoder()\n",
        "df['Consistency of Speed Changes'] = label_encoder.fit_transform(df['Consistency of Speed Changes'])\n",
        "df['Battery Usage'] = label_encoder.fit_transform(df['Battery Usage'])\n",
        "df['Usage Patterns'] = label_encoder.fit_transform(df['Usage Patterns'])\n",
        "df['Qualitative Score'] = label_encoder.fit_transform(df['Qualitative Score'])\n",
        "\n",
        "# Split data into features and target variable\n",
        "X = df.drop('Qualitative Score', axis=1)\n",
        "y = df['Qualitative Score']\n",
        "\n",
        "# Split data into train and test sets\n",
        "X_train, X_test, y_train, y_test = train_test_split(X, y, test_size=0.2, random_state=42)\n",
        "\n",
        "# Initialize Random Forest classifier\n",
        "rf_classifier = RandomForestClassifier(n_estimators=100, random_state=42)\n",
        "\n",
        "# Train the classifier\n",
        "rf_classifier.fit(X_train, y_train)\n",
        "\n",
        "# Predict the Qualitative Score\n",
        "y_pred = rf_classifier.predict(X_test)\n",
        "\n",
        "# Calculate accuracy\n",
        "accuracy = accuracy_score(y_test, y_pred)\n",
        "print(\"Accuracy:\", accuracy)\n"
      ]
    }
  ]
}